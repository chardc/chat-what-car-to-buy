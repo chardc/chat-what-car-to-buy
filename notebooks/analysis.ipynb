{
 "cells": [
  {
   "cell_type": "markdown",
   "id": "a0ce0816",
   "metadata": {},
   "source": [
    "# What do people from Reddit say about used cars?\n",
    "### An analysis of text data scraped from Reddit posts and comments\n"
   ]
  },
  {
   "cell_type": "code",
   "execution_count": 1,
   "id": "1ee50f2e",
   "metadata": {},
   "outputs": [],
   "source": [
    "import pandas as pd\n",
    "import numpy as np\n",
    "import matplotlib.pyplot as plt\n",
    "import seaborn as sns\n",
    "import pyarrow as pa, pyarrow.parquet as pq, pyarrow.compute as pc\n",
    "from chatwhatcartobuy.utils.getpath import get_repo_root"
   ]
  },
  {
   "cell_type": "markdown",
   "id": "e210b4df",
   "metadata": {},
   "source": [
    "## Parsing the scraped data"
   ]
  },
  {
   "cell_type": "code",
   "execution_count": 2,
   "id": "6c9116f4",
   "metadata": {},
   "outputs": [],
   "source": [
    "# Create a parquet dataset object to merge all parquet files from respective dataset directory\n",
    "root = get_repo_root()\n",
    "sub_dataset = pq.ParquetDataset(root / 'data/raw/submission-dataset')\n",
    "com_dataset = pq.ParquetDataset(root / 'data/raw/comment-dataset')"
   ]
  },
  {
   "cell_type": "code",
   "execution_count": 3,
   "id": "b9309a8f",
   "metadata": {},
   "outputs": [],
   "source": [
    "# Convert to PyArrow table, then to Pandas dataframe\n",
    "sub_df = sub_dataset.read().to_pandas()\n",
    "com_df = com_dataset.read().to_pandas()"
   ]
  },
  {
   "cell_type": "code",
   "execution_count": 4,
   "id": "8d390ce6",
   "metadata": {},
   "outputs": [
    {
     "name": "stdout",
     "output_type": "stream",
     "text": [
      "Submission Dataframe shape: (5299, 8)\n",
      "Comment Dataframe shape: (331854, 6)\n"
     ]
    }
   ],
   "source": [
    "print(f'Submission Dataframe shape: {sub_df.shape}')\n",
    "print(f'Comment Dataframe shape: {com_df.shape}')"
   ]
  },
  {
   "cell_type": "markdown",
   "id": "844e8e61",
   "metadata": {},
   "source": [
    "## Understanding the data"
   ]
  },
  {
   "cell_type": "markdown",
   "id": "2e9fc2e9",
   "metadata": {},
   "source": [
    "Descriptive statistics offer a quick and convenient way to diagnose the condition of the data and determine the presence of outliers. In the case of Reddit submissions and comments, it's normal for the data to exhibit a prominent left skew due to the vast majority of submissions and comments having low-moderate upvotes, and a few viral posts or comments to have several thousands of votes.\n",
    "\n",
    "__Numeric Data: Score (Upvotes), Upvote Ratio, Number of Comments__"
   ]
  },
  {
   "cell_type": "code",
   "execution_count": 5,
   "id": "74e892a1",
   "metadata": {},
   "outputs": [
    {
     "data": {
      "text/html": [
       "<div>\n",
       "<style scoped>\n",
       "    .dataframe tbody tr th:only-of-type {\n",
       "        vertical-align: middle;\n",
       "    }\n",
       "\n",
       "    .dataframe tbody tr th {\n",
       "        vertical-align: top;\n",
       "    }\n",
       "\n",
       "    .dataframe thead th {\n",
       "        text-align: right;\n",
       "    }\n",
       "</style>\n",
       "<table border=\"1\" class=\"dataframe\">\n",
       "  <thead>\n",
       "    <tr style=\"text-align: right;\">\n",
       "      <th></th>\n",
       "      <th>score</th>\n",
       "      <th>upvote_ratio</th>\n",
       "      <th>timestamp</th>\n",
       "      <th>num_comments</th>\n",
       "    </tr>\n",
       "  </thead>\n",
       "  <tbody>\n",
       "    <tr>\n",
       "      <th>count</th>\n",
       "      <td>5299.0</td>\n",
       "      <td>5299.0</td>\n",
       "      <td>5299</td>\n",
       "      <td>5299.0</td>\n",
       "    </tr>\n",
       "    <tr>\n",
       "      <th>mean</th>\n",
       "      <td>218.561993</td>\n",
       "      <td>0.809851</td>\n",
       "      <td>2023-12-08 05:09:31</td>\n",
       "      <td>127.109643</td>\n",
       "    </tr>\n",
       "    <tr>\n",
       "      <th>min</th>\n",
       "      <td>0.0</td>\n",
       "      <td>0.09</td>\n",
       "      <td>2011-01-10 22:20:36</td>\n",
       "      <td>0.0</td>\n",
       "    </tr>\n",
       "    <tr>\n",
       "      <th>25%</th>\n",
       "      <td>1.0</td>\n",
       "      <td>0.68</td>\n",
       "      <td>2023-08-09 23:00:59</td>\n",
       "      <td>7.0</td>\n",
       "    </tr>\n",
       "    <tr>\n",
       "      <th>50%</th>\n",
       "      <td>4.0</td>\n",
       "      <td>0.87</td>\n",
       "      <td>2024-10-22 20:09:08</td>\n",
       "      <td>31.0</td>\n",
       "    </tr>\n",
       "    <tr>\n",
       "      <th>75%</th>\n",
       "      <td>78.5</td>\n",
       "      <td>0.99</td>\n",
       "      <td>2025-04-10 06:59:33</td>\n",
       "      <td>133.0</td>\n",
       "    </tr>\n",
       "    <tr>\n",
       "      <th>max</th>\n",
       "      <td>23944.0</td>\n",
       "      <td>1.0</td>\n",
       "      <td>2025-07-16 06:14:36</td>\n",
       "      <td>3676.0</td>\n",
       "    </tr>\n",
       "    <tr>\n",
       "      <th>std</th>\n",
       "      <td>896.35101</td>\n",
       "      <td>0.198649</td>\n",
       "      <td>NaN</td>\n",
       "      <td>260.084068</td>\n",
       "    </tr>\n",
       "  </tbody>\n",
       "</table>\n",
       "</div>"
      ],
      "text/plain": [
       "            score  upvote_ratio            timestamp  num_comments\n",
       "count      5299.0        5299.0                 5299        5299.0\n",
       "mean   218.561993      0.809851  2023-12-08 05:09:31    127.109643\n",
       "min           0.0          0.09  2011-01-10 22:20:36           0.0\n",
       "25%           1.0          0.68  2023-08-09 23:00:59           7.0\n",
       "50%           4.0          0.87  2024-10-22 20:09:08          31.0\n",
       "75%          78.5          0.99  2025-04-10 06:59:33         133.0\n",
       "max       23944.0           1.0  2025-07-16 06:14:36        3676.0\n",
       "std     896.35101      0.198649                  NaN    260.084068"
      ]
     },
     "execution_count": 5,
     "metadata": {},
     "output_type": "execute_result"
    }
   ],
   "source": [
    "sub_df.describe()"
   ]
  },
  {
   "cell_type": "markdown",
   "id": "d708f1b4",
   "metadata": {},
   "source": [
    "The comments show a surprising minimum value with 105 downvotes. This begs the question of whether downvoted comments should be retained or removed from the dataset, given the potential implications of heavily downvoted comments (e.g. misleading, irrelevant, or malicious). However, it's also worth noting the irrationality of social media users where even a single disagreement can immediately result in a negatively scored comment (since most comments in reddit have either 0 or 1 starting score)."
   ]
  },
  {
   "cell_type": "code",
   "execution_count": 6,
   "id": "f55bc242",
   "metadata": {},
   "outputs": [
    {
     "data": {
      "text/html": [
       "<div>\n",
       "<style scoped>\n",
       "    .dataframe tbody tr th:only-of-type {\n",
       "        vertical-align: middle;\n",
       "    }\n",
       "\n",
       "    .dataframe tbody tr th {\n",
       "        vertical-align: top;\n",
       "    }\n",
       "\n",
       "    .dataframe thead th {\n",
       "        text-align: right;\n",
       "    }\n",
       "</style>\n",
       "<table border=\"1\" class=\"dataframe\">\n",
       "  <thead>\n",
       "    <tr style=\"text-align: right;\">\n",
       "      <th></th>\n",
       "      <th>score</th>\n",
       "      <th>timestamp</th>\n",
       "    </tr>\n",
       "  </thead>\n",
       "  <tbody>\n",
       "    <tr>\n",
       "      <th>count</th>\n",
       "      <td>331854.0</td>\n",
       "      <td>331854</td>\n",
       "    </tr>\n",
       "    <tr>\n",
       "      <th>mean</th>\n",
       "      <td>10.163897</td>\n",
       "      <td>2024-01-19 15:16:21</td>\n",
       "    </tr>\n",
       "    <tr>\n",
       "      <th>min</th>\n",
       "      <td>-105.0</td>\n",
       "      <td>2011-01-10 22:32:42</td>\n",
       "    </tr>\n",
       "    <tr>\n",
       "      <th>25%</th>\n",
       "      <td>1.0</td>\n",
       "      <td>2023-09-27 05:38:09</td>\n",
       "    </tr>\n",
       "    <tr>\n",
       "      <th>50%</th>\n",
       "      <td>1.0</td>\n",
       "      <td>2024-08-16 02:18:30</td>\n",
       "    </tr>\n",
       "    <tr>\n",
       "      <th>75%</th>\n",
       "      <td>2.0</td>\n",
       "      <td>2025-03-09 00:59:38</td>\n",
       "    </tr>\n",
       "    <tr>\n",
       "      <th>max</th>\n",
       "      <td>8363.0</td>\n",
       "      <td>2025-07-16 06:54:25</td>\n",
       "    </tr>\n",
       "    <tr>\n",
       "      <th>std</th>\n",
       "      <td>74.334446</td>\n",
       "      <td>NaN</td>\n",
       "    </tr>\n",
       "  </tbody>\n",
       "</table>\n",
       "</div>"
      ],
      "text/plain": [
       "           score            timestamp\n",
       "count   331854.0               331854\n",
       "mean   10.163897  2024-01-19 15:16:21\n",
       "min       -105.0  2011-01-10 22:32:42\n",
       "25%          1.0  2023-09-27 05:38:09\n",
       "50%          1.0  2024-08-16 02:18:30\n",
       "75%          2.0  2025-03-09 00:59:38\n",
       "max       8363.0  2025-07-16 06:54:25\n",
       "std    74.334446                  NaN"
      ]
     },
     "execution_count": 6,
     "metadata": {},
     "output_type": "execute_result"
    }
   ],
   "source": [
    "com_df.describe()"
   ]
  },
  {
   "cell_type": "markdown",
   "id": "0ca2b661",
   "metadata": {},
   "source": [
    "From the information below, the median score of downvoted comments is -2, and the 3rd quantile is -1, which shows that the vast majority of downvoted comments can't immediately be ruled out as misleading, malicious, or irrelevant--and may stem from simple disagreements online. It's worth noting, however, that comments with scores below the 25th percentile may warrant being filtered out. Still, this requires human judgement and a detailed reading of a sample of heavily downvoted comments."
   ]
  },
  {
   "cell_type": "code",
   "execution_count": 7,
   "id": "14156281",
   "metadata": {},
   "outputs": [
    {
     "data": {
      "text/plain": [
       "count      6767.0\n",
       "mean    -4.154426\n",
       "std      6.660018\n",
       "min        -105.0\n",
       "25%          -5.0\n",
       "50%          -2.0\n",
       "75%          -1.0\n",
       "max          -1.0\n",
       "Name: score, dtype: double[pyarrow]"
      ]
     },
     "execution_count": 7,
     "metadata": {},
     "output_type": "execute_result"
    }
   ],
   "source": [
    "com_df[com_df.score < 0].score.describe()"
   ]
  },
  {
   "cell_type": "markdown",
   "id": "4eea8ff7",
   "metadata": {},
   "source": [
    "Character counts and token counts are crucial in tuning the ETL pipeline, particularly the data transformation and filtering process where I implemented a short text filter based on an arbitrarily low number of characters for each respective text data type (i.e. title, selftext, body). An unbiased way to tune the transformer would be to perform this analysis on raw, unfiltered data; however, the current filtering seems sufficient (and may even require a higher minimum character count as the minimum submission title and comment body token counts are extremely low). Further processing can be done during analysis and model-building to address the lapses of the basic transformations from the ETL pipeline.\n",
    "\n",
    "__Text Data: ASCII Character Count and Token Counts__"
   ]
  },
  {
   "cell_type": "code",
   "execution_count": 8,
   "id": "b2a65cc7",
   "metadata": {},
   "outputs": [
    {
     "name": "stdout",
     "output_type": "stream",
     "text": [
      "Submission ASCII Character Count:\n",
      "          title_len  selftext_len\n",
      "count  5299.000000   5299.000000\n",
      "mean     63.464805   1631.714286\n",
      "std      39.783522   2703.454568\n",
      "min      15.000000     55.000000\n",
      "25%      36.000000    499.000000\n",
      "50%      55.000000    908.000000\n",
      "75%      77.000000   1673.500000\n",
      "max     300.000000  38038.000000\n"
     ]
    }
   ],
   "source": [
    "# Convert text data to character length\n",
    "sub_char_len = pd.DataFrame(\n",
    "    zip(sub_df.title.map(lambda row: len(row)),\n",
    "        sub_df.selftext.map(lambda row: len(row))\n",
    "        ), \n",
    "    columns=['title_len', 'selftext_len']\n",
    "    )\n",
    "print('Submission ASCII Character Count:\\n', sub_char_len.describe())"
   ]
  },
  {
   "cell_type": "code",
   "execution_count": 9,
   "id": "2ef65450",
   "metadata": {},
   "outputs": [
    {
     "name": "stdout",
     "output_type": "stream",
     "text": [
      "Comment ASCII Character Count:\n",
      "                 body\n",
      "count  331854.000000\n",
      "mean      265.046888\n",
      "std       348.281932\n",
      "min         3.000000\n",
      "25%        74.000000\n",
      "50%       157.000000\n",
      "75%       322.000000\n",
      "max      9706.000000\n"
     ]
    }
   ],
   "source": [
    "com_char_len = com_df[['body']].map(lambda row: len(row))\n",
    "print('Comment ASCII Character Count:\\n', com_char_len.describe())"
   ]
  },
  {
   "cell_type": "code",
   "execution_count": 10,
   "id": "af211a14",
   "metadata": {},
   "outputs": [
    {
     "name": "stdout",
     "output_type": "stream",
     "text": [
      "Submission Token Count:\n",
      "              title     selftext\n",
      "count  5299.000000  5299.000000\n",
      "mean     12.297226   313.622004\n",
      "std       7.836197   507.362178\n",
      "min       2.000000    10.000000\n",
      "25%       7.000000    98.500000\n",
      "50%      11.000000   178.000000\n",
      "75%      15.000000   326.000000\n",
      "max      65.000000  7091.000000\n"
     ]
    }
   ],
   "source": [
    "sub_tok_count = pd.DataFrame(\n",
    "    zip(sub_df.title.str.count(r'(\\b\\w+\\b)'),\n",
    "        sub_df.selftext.str.count(r'(\\b\\w+\\b)')\n",
    "        ), \n",
    "    columns=['title', 'selftext']\n",
    "    )\n",
    "print('Submission Token Count:\\n', sub_tok_count.describe())"
   ]
  },
  {
   "cell_type": "markdown",
   "id": "beb5247f",
   "metadata": {},
   "source": [
    "The token count from below shows a surprising minimum value of 0, which should have been addressed in the ETL pipeline during the transform step where null or empty text records should have been filtered out from the corpora. Upon checking, there were some comments that only contained uninformative punctuations, which were retained during the transform step in the ETL. Regardless, the usual NLP libraries such as spacy, nltk, scikit-learn, and even encoder-decoders have robust tokenization processes that perform stopword removal, punctuation removal, and other appropriate treatments to tame text data."
   ]
  },
  {
   "cell_type": "code",
   "execution_count": 11,
   "id": "00e0079a",
   "metadata": {},
   "outputs": [
    {
     "name": "stdout",
     "output_type": "stream",
     "text": [
      "Comment Token Count:\n",
      "             body\n",
      "count   331854.0\n",
      "mean   51.627646\n",
      "std    66.649372\n",
      "min          0.0\n",
      "25%         15.0\n",
      "50%         31.0\n",
      "75%         63.0\n",
      "max       1838.0\n"
     ]
    }
   ],
   "source": [
    "# Just to retain column header; but can be as simple as com_df.body.str.count(<pat>).describe()\n",
    "com_tok_count = com_df[['body']].apply(lambda col: col.str.count(r'(\\b\\w+\\b)'))\n",
    "print('Comment Token Count:\\n', com_tok_count.describe())"
   ]
  },
  {
   "cell_type": "code",
   "execution_count": 12,
   "id": "c9805125",
   "metadata": {},
   "outputs": [
    {
     "name": "stdout",
     "output_type": "stream",
     "text": [
      "107137         !)\n",
      "186468         !)\n",
      "208134     , , . \n",
      "289667         !)\n",
      "Name: body, dtype: string\n"
     ]
    }
   ],
   "source": [
    "# Show the records with 0 token counts\n",
    "print(com_df.body[com_df.body.str.count(r'\\b\\w+\\b') == 0])"
   ]
  },
  {
   "cell_type": "markdown",
   "id": "95822e2c",
   "metadata": {},
   "source": [
    "## Data wrangling"
   ]
  },
  {
   "cell_type": "markdown",
   "id": "aec2cfd6",
   "metadata": {},
   "source": [
    "__Removing duplicates__\n",
    "\n",
    "The results below show multiple duplicate comments. Although the ETL pipeline handles deduplication, cleaning, and other naive transformations on the text data, since it exports batched data, it's possible for duplicates to reoccur upon merging the separate batch files when loading the parquet data files. \n",
    "\n",
    "Increasing the buffer size for the Data Loader can potentially mitigate the amount of duplicates at the cost of memory and file export frequency, however it doesn't scale well with larger volumes of data. For the sake of simplicity, I will still perform deduplication after parsing parquet files. "
   ]
  },
  {
   "cell_type": "code",
   "execution_count": 13,
   "id": "c1b144fc",
   "metadata": {},
   "outputs": [
    {
     "data": {
      "text/plain": [
       "np.int64(1143)"
      ]
     },
     "execution_count": 13,
     "metadata": {},
     "output_type": "execute_result"
    }
   ],
   "source": [
    "# Number of duplicated submissions by submission ID\n",
    "sub_df.duplicated().sum()"
   ]
  },
  {
   "cell_type": "code",
   "execution_count": 14,
   "id": "36f5bb17",
   "metadata": {},
   "outputs": [
    {
     "data": {
      "text/plain": [
       "np.int64(225158)"
      ]
     },
     "execution_count": 14,
     "metadata": {},
     "output_type": "execute_result"
    }
   ],
   "source": [
    "# Number of duplicated comments by comment ID\n",
    "com_df.duplicated('comment_id').sum()"
   ]
  },
  {
   "cell_type": "code",
   "execution_count": 15,
   "id": "2ef274d3",
   "metadata": {},
   "outputs": [
    {
     "data": {
      "text/html": [
       "<div>\n",
       "<style scoped>\n",
       "    .dataframe tbody tr th:only-of-type {\n",
       "        vertical-align: middle;\n",
       "    }\n",
       "\n",
       "    .dataframe tbody tr th {\n",
       "        vertical-align: top;\n",
       "    }\n",
       "\n",
       "    .dataframe thead th {\n",
       "        text-align: right;\n",
       "    }\n",
       "</style>\n",
       "<table border=\"1\" class=\"dataframe\">\n",
       "  <thead>\n",
       "    <tr style=\"text-align: right;\">\n",
       "      <th></th>\n",
       "      <th>comment_id</th>\n",
       "      <th>body</th>\n",
       "      <th>score</th>\n",
       "      <th>timestamp</th>\n",
       "      <th>subreddit</th>\n",
       "      <th>parent_submission_id</th>\n",
       "    </tr>\n",
       "  </thead>\n",
       "  <tbody>\n",
       "    <tr>\n",
       "      <th>121958</th>\n",
       "      <td>h448sw1</td>\n",
       "      <td>really interesting writeup! enjoy your car and...</td>\n",
       "      <td>6</td>\n",
       "      <td>2021-07-05 10:57:07</td>\n",
       "      <td>r/cars</td>\n",
       "      <td>oe2408</td>\n",
       "    </tr>\n",
       "    <tr>\n",
       "      <th>201289</th>\n",
       "      <td>h448sw1</td>\n",
       "      <td>really interesting writeup! enjoy your car and...</td>\n",
       "      <td>6</td>\n",
       "      <td>2021-07-05 10:57:07</td>\n",
       "      <td>r/cars</td>\n",
       "      <td>oe2408</td>\n",
       "    </tr>\n",
       "    <tr>\n",
       "      <th>304444</th>\n",
       "      <td>h448sw1</td>\n",
       "      <td>really interesting writeup! enjoy your car and...</td>\n",
       "      <td>5</td>\n",
       "      <td>2021-07-05 10:57:07</td>\n",
       "      <td>r/cars</td>\n",
       "      <td>oe2408</td>\n",
       "    </tr>\n",
       "  </tbody>\n",
       "</table>\n",
       "</div>"
      ],
      "text/plain": [
       "       comment_id                                               body  score  \\\n",
       "121958    h448sw1  really interesting writeup! enjoy your car and...      6   \n",
       "201289    h448sw1  really interesting writeup! enjoy your car and...      6   \n",
       "304444    h448sw1  really interesting writeup! enjoy your car and...      5   \n",
       "\n",
       "                  timestamp subreddit parent_submission_id  \n",
       "121958  2021-07-05 10:57:07    r/cars               oe2408  \n",
       "201289  2021-07-05 10:57:07    r/cars               oe2408  \n",
       "304444  2021-07-05 10:57:07    r/cars               oe2408  "
      ]
     },
     "execution_count": 15,
     "metadata": {},
     "output_type": "execute_result"
    }
   ],
   "source": [
    "# Show the sample duplicated comments\n",
    "np.random.seed(42)\n",
    "sample_duplicated_comment_id = np.random.choice(com_df[com_df.duplicated('comment_id')].comment_id)\n",
    "com_df.query('comment_id == @sample_duplicated_comment_id')"
   ]
  },
  {
   "cell_type": "code",
   "execution_count": 16,
   "id": "2b4ec52b",
   "metadata": {},
   "outputs": [
    {
     "name": "stdout",
     "output_type": "stream",
     "text": [
      "Shape of deduplicated submission dataframe: (2818, 8)\n",
      "Shape of deduplicated comment dataframe: (106696, 6)\n"
     ]
    }
   ],
   "source": [
    "# Remove duplicated comments\n",
    "sub_df_clean = sub_df.drop_duplicates('submission_id')\n",
    "com_df_clean = com_df.drop_duplicates('comment_id')\n",
    "print(f'Shape of deduplicated submission dataframe: {sub_df_clean.shape}')\n",
    "print(f'Shape of deduplicated comment dataframe: {com_df_clean.shape}')"
   ]
  },
  {
   "cell_type": "markdown",
   "id": "69ee3589",
   "metadata": {},
   "source": [
    "__Removing empty records (without words)__\n",
    "\n",
    "It's possible that certain records are retained because they are non-empty, but not necessarily filled with actual words. For instance, a particular records can be made up of only punctuations or non-word characters after applying the transformations from the ETL pipeline. To remove these edge cases, I simply masked the dataframe by the records that have non-zero word counts, where a word is defined as an ASCII character enclosed by word boundaries."
   ]
  },
  {
   "cell_type": "code",
   "execution_count": 17,
   "id": "c1325932",
   "metadata": {},
   "outputs": [
    {
     "name": "stdout",
     "output_type": "stream",
     "text": [
      "Before removing non-token records from comments:  (106696, 6)\n",
      "After removing non-token records from comments:  (106694, 6)\n"
     ]
    }
   ],
   "source": [
    "# Remove the records with 0 token counts\n",
    "print('Before removing non-token records from comments: ', com_df_clean.shape)\n",
    " \n",
    "# Only retain records with non zero token counts\n",
    "com_df_clean = com_df_clean.loc[com_df.body.str.count(r'\\b\\w+\\b') > 0]\n",
    "print('After removing non-token records from comments: ', com_df_clean.shape)"
   ]
  },
  {
   "cell_type": "code",
   "execution_count": 18,
   "id": "73da5185",
   "metadata": {},
   "outputs": [
    {
     "name": "stdout",
     "output_type": "stream",
     "text": [
      "Before removing non-token records from submissions:  (2818, 8)\n",
      "After removing non-token records from submissions:  (2818, 8)\n"
     ]
    }
   ],
   "source": [
    "# Remove the records with 0 token counts\n",
    "print('Before removing non-token records from submissions: ', sub_df_clean.shape)\n",
    "\n",
    "# Only retain records with non zero token counts for both title and selftext\n",
    "sub_df_clean = sub_df_clean.loc[(sub_df_clean.title.str.count(r'\\b\\w+\\b') > 0)\n",
    "                                & (sub_df_clean.selftext.str.count(r'\\b\\w+\\b') > 0)]\n",
    "print('After removing non-token records from submissions: ', sub_df_clean.shape)"
   ]
  },
  {
   "cell_type": "markdown",
   "id": "633cb845",
   "metadata": {},
   "source": [
    "__Filtering by post and comment score__\n",
    "\n",
    "From the samples below, nothing seems out of the ordinary for the lightly downvoted comments. Some may be uninformative short liners, yet can still be retained for simple sentiment analysis. On the other hand, heavily downvoted comments may be emotionally charged, controversial, or simply considered inappropriate by a considerable number of users, which led to the low score. \n",
    "\n",
    "For this application, I will exclude heavily downvoted comments and posts as I simply want to obtain the recommendations agreed upon by the vast majority of users in Reddit. Although some of these downvoted comments may contain informative content that may simply be bitter pills to swallow, the context of this application requires me to go along with the agreed-upon sentiment by most people."
   ]
  },
  {
   "cell_type": "code",
   "execution_count": 19,
   "id": "4814f9dc",
   "metadata": {},
   "outputs": [
    {
     "name": "stdout",
     "output_type": "stream",
     "text": [
      "*cream of the crop\n",
      "actually some budget tyres are better performing (safety/grip) than premiums. think there was a top gear on it years ago. one of the reason is premium tyres are designed to last longer, as that s one of the premium benefits. but this means using a harder compound, which will last longer, but isn t going to grip as well as a softer compound. there was a reasonably scientific assessment, not just clarkson going powwwwer.\n",
      "lmao that's what you get.\n",
      "i think something like this ticks every box. comfortable, reliable, reputable brand, 60+ mpg, 35 tax, euro 6 and automatic. [https://www.autotrader.co.uk/car-details/202310022568151?sort=relevance&advertising-location=at\\_cars&annual-tax-cars=to\\_35&exclude-writeoff-categories=on&fuel-consumption=over\\_50&fuel-type=diesel&keywords=euro%206&make=seat&maximum-mileage=60000&model=leon&postcode=ts43eg&price-to=15000&radius=300&transmission=automatic&fromsra](https://www.autotrader.co.uk/car-details/202310022568151?sort=relevance&advertising-location=at_cars&annual-tax-cars=to_35&exclude-writeoff-categories=on&fuel-consumption=over_50&fuel-type=diesel&keywords=euro%206&make=seat&maximum-mileage=60000&model=leon&postcode=ts43eg&price-to=15000&radius=300&transmission=automatic&fromsra)\n",
      "gonna come in left of field here - look at the haval h6 vanta or gt. i bought the gt over a year ago now because despite my best attempts, i couldn t fault the bloody thing. especially against the gutless or expensive (or both) competition. looks and feels 5 years ahead internally, drives great, could use a little more pop, but there is a plug in tune that does just that for less than $1000. drive away price at $46k (before negotiating) for the absolute top spec model is just unreal in this market. i advise the vanta might be the better option for your needs, as the rear space is much better. the gt slants off earlier and it makes a pretty big difference honestly. everyone will come back with chinese crap blah blah.. as i used to.. but the h6 has been selling really well for 10 years internationally, it s a seemingly really well put together suv.\n"
     ]
    }
   ],
   "source": [
    "# Sampling the heavily and lightly downvoted comments\n",
    "## Lightly downvoted comments\n",
    "lightly_downvoted_comments = com_df_clean.body[(com_df_clean.score >= -2) & (com_df_clean.score < 0)]\n",
    "rand_idx = np.random.choice(lightly_downvoted_comments.index, size=5)\n",
    "for com in lightly_downvoted_comments[rand_idx]:\n",
    "    print(com)"
   ]
  },
  {
   "cell_type": "code",
   "execution_count": 20,
   "id": "5e596c0f",
   "metadata": {},
   "outputs": [
    {
     "name": "stdout",
     "output_type": "stream",
     "text": [
      "your journey? nobody gives two fucks about your journey\n",
      "with 2 teens i think my 2024 rav4 prime xse is a cool vehicle. it can do 0-60 in 5.5 seconds and that is only 2 seconds slower than a hellcat yet is more efficient than a prius.\n",
      "you can t sell a car with a loan on it privately\n",
      "their dct is not a dct, and it's not theirs. it's a zf8 trans, that's used in many many cars from bmw, jeep, supra, etc. edit: oops, i was wrong! zf8 was rumored but not actually launched with, the c8 has a tremec tr-9080. sometimes the zf8 trans is mistakenly called a dct\n",
      "no thanks, i'm good. $200/wk fuel tarted up landcruiser is the 'best' option on that list. second best is the bmw because it has the b58 engine, shame it's going to waste its life like that.\n"
     ]
    }
   ],
   "source": [
    "## Heavily downvoted comments\n",
    "heavily_downvoted_comments = com_df_clean.body[com_df_clean.score < -2]\n",
    "rand_idx = np.random.choice(heavily_downvoted_comments.index, size=5)\n",
    "for com in heavily_downvoted_comments[rand_idx]:\n",
    "    print(com)"
   ]
  },
  {
   "cell_type": "markdown",
   "id": "b7e33e37",
   "metadata": {},
   "source": [
    "__Removing heavily downvoted posts and comments__"
   ]
  },
  {
   "cell_type": "code",
   "execution_count": 21,
   "id": "c7e068ed",
   "metadata": {},
   "outputs": [
    {
     "name": "stdout",
     "output_type": "stream",
     "text": [
      "Before removing heavily downvoted comments:  (106694, 6)\n",
      "After removing heavily downvoted comments:  (105773, 6)\n"
     ]
    }
   ],
   "source": [
    "print('Before removing heavily downvoted comments: ', com_df_clean.shape)\n",
    "com_df_clean = com_df_clean[com_df_clean.score >= -2]\n",
    "print('After removing heavily downvoted comments: ', com_df_clean.shape)"
   ]
  },
  {
   "cell_type": "code",
   "execution_count": 22,
   "id": "f5aacb96",
   "metadata": {},
   "outputs": [
    {
     "name": "stdout",
     "output_type": "stream",
     "text": [
      "Before removing heavily downvoted posts:  (2818, 8)\n",
      "After removing heavily downvoted posts:  (2818, 8)\n"
     ]
    }
   ],
   "source": [
    "print('Before removing heavily downvoted posts: ', sub_df_clean.shape)\n",
    "sub_df_clean = sub_df_clean[sub_df_clean.score >= -2]\n",
    "print('After removing heavily downvoted posts: ', sub_df_clean.shape)"
   ]
  },
  {
   "cell_type": "markdown",
   "id": "e8666333",
   "metadata": {},
   "source": [
    "__Replacing hyperlinks with context tags__\n",
    "\n",
    "In the current context, hyperlinks provide little to no value aside from context. To potentially save memory and context space, hyperlinks will be replaced with <URL> tags instead."
   ]
  },
  {
   "cell_type": "code",
   "execution_count": 23,
   "id": "f7f888a7",
   "metadata": {},
   "outputs": [
    {
     "name": "stdout",
     "output_type": "stream",
     "text": [
      "Comments with URLs: 1866\n"
     ]
    }
   ],
   "source": [
    "url_pat = r'[\\[\\(]?https?://[\\S]+[\\]\\)]?'\n",
    "comments_with_url = com_df_clean.body.str.findall(url_pat).value_counts()\n",
    "# Total number of comments with hyperlinks\n",
    "print(f'Comments with URLs: {comments_with_url[1:].sum()}') # Remove first value which is empty list []"
   ]
  },
  {
   "cell_type": "code",
   "execution_count": 24,
   "id": "ae523c7f",
   "metadata": {},
   "outputs": [
    {
     "name": "stdout",
     "output_type": "stream",
     "text": [
      "Posts with URL in title: 0\n",
      "Posts with URL in selftext: 523\n"
     ]
    }
   ],
   "source": [
    "# Total posts with URLs in either title or selftext, (non-mutually exclusive)\n",
    "posts_with_title_url = sub_df.title.str.findall(url_pat).value_counts()\n",
    "posts_with_selftext_url = sub_df.selftext.str.findall(url_pat).value_counts()\n",
    "print(f'Posts with URL in title: {posts_with_title_url[1:].sum()}\\n'\n",
    "      f'Posts with URL in selftext: {posts_with_selftext_url[1:].sum()}')"
   ]
  },
  {
   "cell_type": "code",
   "execution_count": 25,
   "id": "71361808",
   "metadata": {},
   "outputs": [],
   "source": [
    "# Pad URLs with <URL>\n",
    "com_df_clean.loc[:,'body'] = com_df_clean.body.str.replace(url_pat, '<URL>', regex=True)\n",
    "\n",
    "sub_df_clean = sub_df.copy()\n",
    "sub_df_clean.loc[:, 'title'] = sub_df_clean.title.str.replace(url_pat, '<URL>', regex=True)\n",
    "sub_df_clean.loc[:, 'selftext'] = sub_df_clean.selftext.str.replace(url_pat, '<URL>', regex=True)"
   ]
  },
  {
   "cell_type": "code",
   "execution_count": 26,
   "id": "23430121",
   "metadata": {},
   "outputs": [
    {
     "name": "stdout",
     "output_type": "stream",
     "text": [
      "Number of comments with URLs: 0\n",
      "Number of titles with URLs: 0\n",
      "Number of selftexts with URLs: 0\n"
     ]
    }
   ],
   "source": [
    "# Show the number of comments with context padded URLs\n",
    "print(f'Number of comments with URLs: {com_df_clean.body.str.findall(url_pat).value_counts()[1:].sum()}')\n",
    "print(f'Number of titles with URLs: {sub_df_clean.title.str.findall(url_pat).value_counts()[1:].sum()}')\n",
    "print(f'Number of selftexts with URLs: {sub_df_clean.selftext.str.findall(url_pat).value_counts()[1:].sum()}')"
   ]
  },
  {
   "cell_type": "markdown",
   "id": "ad1ea1a0",
   "metadata": {},
   "source": [
    "__Extracting only text data__"
   ]
  },
  {
   "cell_type": "code",
   "execution_count": 27,
   "id": "29a7ae8c",
   "metadata": {},
   "outputs": [],
   "source": [
    "comment_text_df = com_df_clean[['body']].copy()\n",
    "submission_text_df = sub_df_clean[['title','selftext']].copy()\n",
    "\n",
    "# Concatenate title and text and retain only numpy array\n",
    "submission_text = ('<title>' + submission_text_df.title + '</title><selftext>' + submission_text_df.selftext + '</selftext>').values.to_numpy()\n",
    "\n",
    "# Add tags to comment and retain only numpy array\n",
    "comment_text = ('<comment>' + comment_text_df.body + '</comment>').values.to_numpy()"
   ]
  },
  {
   "cell_type": "code",
   "execution_count": 28,
   "id": "2bd2aeca",
   "metadata": {},
   "outputs": [
    {
     "data": {
      "text/plain": [
       "array(['<title>most reliable used car, under $25k, less than 10 years old?</title><selftext>i m thinking it s likely a toyota or honda, but curious if you were looking to buy, what would you be looking for that meets the criteria? </selftext>',\n",
       "       '<title>used suv under $20k (need a reliable car asap)</title><selftext>_reposting this because i didn t get any comments on my previous post :( i really need to get a new car soon because my current one is stressing me out so please help a gal out _ hey yall, i m a p-plater in my 20s based in brisbane, currently looking to replace my car. i m after a pre-owned automatic small/compact suv that is around $20k or less, under 100,000 km, around 5 years old or newer, good fuel economy (for long-distance and highway driving), and higher ground clearance (for occasional gravel/uneven terrain, not off-roading). i m also looking for a car with features like cruise or adaptive cruise control, apple carplay, reverse camera, rear sensors, and decent safety features. for context, i m currently working as an ecologist and sometimes need to travel long distances for field work (e.g. to the gold coast or sunshine coast), so highway efficiency and comfort matter. the car will mostly be used by me and occasionally one passenger, so back seat space isn t a priority, and a standard-sized boot will be more than enough. right now, i m driving a problematic 2010 audi a3 that i bought from a shady dealer. it has given me a huge headache and i m often stressed that something bad might happen when i m on the road. yes i know i shouldn t have bought a pre owned euro car, let alone from a shady dealer i ve learnt my lesson : ) since i don t know too much about cars, i m not confident buying privately and will be sticking to dealers (i know the prices will be higher). i ve heard of big dealers like cars4us, big box cars, and motorama. are they reliable? if anyone has good experiences (or warnings) about brisbane dealers, please let me know! so far, the cars i ve seen online that fit my criteria are the 2019/2020 hyundai kona go and the 2021 kia stonic s yb. i ve also come across models like the mitsubishi asx and nissan qashqai within this price range, but i have not done much research on them. i m mainly looking at japanese or korean brands due to their reputation for reliability and lower maintenance costs. at the moment, i m most drawn to the hyundai kona based on its reviews, features and appearance. i know toyotas and hondas are usually recommended, but i haven t found any that meet my criteria and budget (they tend to be older or higher in kms for the same price). i would really appreciate any advice or thoughts whether it s on the models i m looking at, other car model recommendations, dealer experiences or any other suggestions. thanks in advance! </selftext>',\n",
       "       \"<title>what would be the cheap-to-run-and-maintain car in australia under 10k~15k? </title><selftext>hello, i am looking for a car with good fuel economy and cheap servicing. i found many cars out there like mazda 2, mitsubishi mirage, suzuki swift, kia rio, volkswagen polo, hyndai i20 and the list goes on. i will use it on daily basis and will run from morning till night in city. i don't really care about the design, power, off-road capability or the year it was made. all i care about is auto transmission gear, low fuel consumption and the low maintenance cost. though i found many cars on the list, i am not sure if the spare parts can be bought easily or the servicing cost can be dear or the l/100km can be high irl. please let me know if you have any recomendations for me. thanks a lot in advance. </selftext>\",\n",
       "       '<title>just moved to australia, looking for a used small car in the $15k range. currently liking the idea of a honda jazz, is there anything else i should consider? </title><selftext>we have two small kids, but have access to a 4wd when we want to trips with more baggage etc. this will be the daily drive for around the city and to the coast. small and easy to drive, fuel efficiency, and driving comfort are priorities if possible! any tips for what to look for? there are so many cars out there!</selftext>',\n",
       "       '<title>reliable used car for $10-15k</title><selftext>i m in the market for a used car with a budget of $10-15k. mainly looking at honda, hyundai, lexus and other asian makes for maintenance purposes. i would like something around the 1.8-2.5l engine size, however open to all suggestions - fire away!</selftext>'],\n",
       "      dtype=object)"
      ]
     },
     "execution_count": 28,
     "metadata": {},
     "output_type": "execute_result"
    }
   ],
   "source": [
    "submission_text[:5]"
   ]
  },
  {
   "cell_type": "code",
   "execution_count": 29,
   "id": "a73595bd",
   "metadata": {},
   "outputs": [
    {
     "data": {
      "text/plain": [
       "array(['<comment>mazda 3, corolla, i30 would be my pick. i had a 2021 mazda 3 g20 evolve and it was great.</comment>',\n",
       "       '<comment>almost anything japanese</comment>',\n",
       "       '<comment>toyota camry - boring as hell but super reliable and cheap to run</comment>',\n",
       "       '<comment>honda accord euro</comment>',\n",
       "       '<comment>loved my subaru outback</comment>'], dtype=object)"
      ]
     },
     "execution_count": 29,
     "metadata": {},
     "output_type": "execute_result"
    }
   ],
   "source": [
    "comment_text[:5]"
   ]
  },
  {
   "cell_type": "markdown",
   "id": "f9fb6f1f",
   "metadata": {},
   "source": [
    "## Analyzing the Text Data"
   ]
  },
  {
   "cell_type": "markdown",
   "id": "e815725d",
   "metadata": {},
   "source": [
    "### Histogram of number of comments per post\n",
    "\n",
    "The histogram below shows the vast majority of Reddit posts scraped have 100 comments at most, and almost half have only 10 comments at most. It may be worth considering filtering the data by the level of user interaction to ensure that only \"high-yield\" or thoroughly informative posts and discussions are retained for use in downstream applications."
   ]
  },
  {
   "cell_type": "code",
   "execution_count": 30,
   "id": "01bb4171",
   "metadata": {},
   "outputs": [
    {
     "name": "stdout",
     "output_type": "stream",
     "text": [
      "Proportion of Reddit posts with at most 100 comments:  90.13%\n",
      "Proportion of Reddit posts with at most 10 comments:  49.36%\n"
     ]
    },
    {
     "data": {
      "image/png": "[encoded data removed]",
      "text/plain": [
       "<Figure size 640x480 with 1 Axes>"
      ]
     },
     "metadata": {},
     "output_type": "display_data"
    }
   ],
   "source": [
    "# Get the number of comments per parent submission\n",
    "submission_comment_counts = com_df_clean.value_counts('parent_submission_id')\n",
    "\n",
    "\n",
    "print(f'Proportion of Reddit posts with at most 100 comments: '\n",
    "      f'{len(submission_comment_counts[submission_comment_counts <= 100]) / len(submission_comment_counts): .2%}')\n",
    "\n",
    "print(f'Proportion of Reddit posts with at most 10 comments: '\n",
    "      f'{len(submission_comment_counts[submission_comment_counts <= 10]) / len(submission_comment_counts): .2%}')\n",
    "\n",
    "ax = sns.histplot(submission_comment_counts)\n",
    "ax.set_title('Number of comments per Reddit post')\n",
    "ax.set_xlabel('Number of comments')\n",
    "ax.set_ylabel('Number of Reddit posts (log scale)')\n",
    "ax.set_yscale('log')\n",
    "plt.show()"
   ]
  },
  {
   "cell_type": "markdown",
   "id": "f011980b",
   "metadata": {},
   "source": [
    "### Figure 2 (To be implemented)"
   ]
  },
  {
   "cell_type": "markdown",
   "id": "0c3efe33",
   "metadata": {},
   "source": []
  }
 ],
 "metadata": {
  "kernelspec": {
   "display_name": ".venv",
   "language": "python",
   "name": "python3"
  },
  "language_info": {
   "codemirror_mode": {
    "name": "ipython",
    "version": 3
   },
   "file_extension": ".py",
   "mimetype": "text/x-python",
   "name": "python",
   "nbconvert_exporter": "python",
   "pygments_lexer": "ipython3",
   "version": "3.12.0"
  }
 },
 "nbformat": 4,
 "nbformat_minor": 5
}
